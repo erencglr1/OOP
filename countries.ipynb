{
 "cells": [
  {
   "cell_type": "markdown",
   "id": "0e3b560a",
   "metadata": {},
   "source": [
    "## Dictionary Definition"
   ]
  },
  {
   "cell_type": "code",
   "execution_count": null,
   "id": "a3db99d8",
   "metadata": {},
   "outputs": [],
   "source": [
    "\n",
    "country1 = {\n",
    "    'name': 'France',\n",
    "    'population': 67000000,\n",
    "    'continent': 'Europe',\n",
    "    'capital_city': 'Paris',\n",
    "    'biggest_cities': ['Paris', 'Marseille', 'Lyon']\n",
    "}\n"
   ]
  },
  {
   "cell_type": "markdown",
   "id": "49682dd8",
   "metadata": {},
   "source": [
    "## Read Values"
   ]
  },
  {
   "cell_type": "code",
   "execution_count": null,
   "id": "e45d7734",
   "metadata": {},
   "outputs": [],
   "source": [
    "\n",
    "country1['name']\n"
   ]
  },
  {
   "cell_type": "code",
   "execution_count": null,
   "id": "02c221e8",
   "metadata": {},
   "outputs": [],
   "source": [
    "\n",
    "country1['population']\n"
   ]
  },
  {
   "cell_type": "code",
   "execution_count": null,
   "id": "709bf004",
   "metadata": {},
   "outputs": [],
   "source": [
    "\n",
    "country1['biggest_cities']\n"
   ]
  },
  {
   "cell_type": "markdown",
   "id": "2dca3aab",
   "metadata": {},
   "source": [
    "## Set Values"
   ]
  },
  {
   "cell_type": "code",
   "execution_count": null,
   "id": "7b377d12",
   "metadata": {},
   "outputs": [],
   "source": [
    "\n",
    "country1['population'] = 68000000\n"
   ]
  },
  {
   "cell_type": "code",
   "execution_count": null,
   "id": "6d1ef72c",
   "metadata": {},
   "outputs": [],
   "source": [
    "\n",
    "country1['population']\n"
   ]
  },
  {
   "cell_type": "markdown",
   "id": "c02852ad",
   "metadata": {},
   "source": [
    "## Create More Countries"
   ]
  },
  {
   "cell_type": "code",
   "execution_count": null,
   "id": "f288bd8b",
   "metadata": {},
   "outputs": [],
   "source": [
    "\n",
    "country2 = {\n",
    "    'name': 'Germany',\n",
    "    'population': 83000000,\n",
    "    'continent': 'Europe',\n",
    "    'capital_city': 'Berlin',\n",
    "    'biggest_cities': ['Berlin', 'Hamburg', 'Munich']\n",
    "}\n",
    "\n",
    "country3 = {\n",
    "    'name': 'Japan',\n",
    "    'population': 126000000,\n",
    "    'continent': 'Asia',\n",
    "    'capital_city': 'Tokyo',\n",
    "    'biggest_cities': ['Tokyo', 'Yokohama', 'Osaka']\n",
    "}\n"
   ]
  },
  {
   "cell_type": "markdown",
   "id": "49d94baf",
   "metadata": {},
   "source": [
    "## What is the problem?"
   ]
  },
  {
   "cell_type": "code",
   "execution_count": null,
   "id": "85f63f9e",
   "metadata": {},
   "outputs": [],
   "source": [
    "\n",
    "# The problem is that for each new country we have to create a new dictionary with all the keys manually.\n"
   ]
  },
  {
   "cell_type": "markdown",
   "id": "40b5ac6e",
   "metadata": {},
   "source": [
    "## Class Definition"
   ]
  },
  {
   "cell_type": "code",
   "execution_count": null,
   "id": "c5ff7ab6",
   "metadata": {},
   "outputs": [],
   "source": [
    "\n",
    "class Country:\n",
    "    def __init__(self, name, population, continent, capital_city, biggest_cities):\n",
    "        self.name = name\n",
    "        self.population = population\n",
    "        self.continent = continent\n",
    "        self.capital_city = capital_city\n",
    "        self.biggest_cities = biggest_cities\n"
   ]
  },
  {
   "cell_type": "markdown",
   "id": "87d47ca7",
   "metadata": {},
   "source": [
    "## Object Creation"
   ]
  },
  {
   "cell_type": "code",
   "execution_count": null,
   "id": "0b1df816",
   "metadata": {},
   "outputs": [],
   "source": [
    "\n",
    "country1 = Country('France', 67000000, 'Europe', 'Paris', ['Paris', 'Marseille', 'Lyon'])\n"
   ]
  },
  {
   "cell_type": "markdown",
   "id": "445e5ab0",
   "metadata": {},
   "source": [
    "## Read Values"
   ]
  },
  {
   "cell_type": "code",
   "execution_count": null,
   "id": "6bac14e3",
   "metadata": {},
   "outputs": [],
   "source": [
    "\n",
    "country1.name\n"
   ]
  },
  {
   "cell_type": "code",
   "execution_count": null,
   "id": "63f88c6c",
   "metadata": {},
   "outputs": [],
   "source": [
    "\n",
    "country1.population\n"
   ]
  },
  {
   "cell_type": "code",
   "execution_count": null,
   "id": "6ea5366b",
   "metadata": {},
   "outputs": [],
   "source": [
    "\n",
    "country1.biggest_cities\n"
   ]
  },
  {
   "cell_type": "markdown",
   "id": "67e4c38b",
   "metadata": {},
   "source": [
    "## Set Values"
   ]
  },
  {
   "cell_type": "code",
   "execution_count": null,
   "id": "a2b80d22",
   "metadata": {},
   "outputs": [],
   "source": [
    "\n",
    "country1.population = 68000000\n"
   ]
  },
  {
   "cell_type": "code",
   "execution_count": null,
   "id": "6d131064",
   "metadata": {},
   "outputs": [],
   "source": [
    "\n",
    "country1.population\n"
   ]
  },
  {
   "cell_type": "markdown",
   "id": "63352fe6",
   "metadata": {},
   "source": [
    "## Create More Countries"
   ]
  },
  {
   "cell_type": "code",
   "execution_count": null,
   "id": "77bf8521",
   "metadata": {},
   "outputs": [],
   "source": [
    "\n",
    "country2 = Country('Germany', 83000000, 'Europe', 'Berlin', ['Berlin', 'Hamburg', 'Munich'])\n",
    "country3 = Country('Japan', 126000000, 'Asia', 'Tokyo', ['Tokyo', 'Yokohama', 'Osaka'])\n"
   ]
  },
  {
   "cell_type": "markdown",
   "id": "c3a47171",
   "metadata": {},
   "source": [
    "## The Benefit?"
   ]
  },
  {
   "cell_type": "code",
   "execution_count": null,
   "id": "258df60d",
   "metadata": {},
   "outputs": [],
   "source": [
    "\n",
    "# We don't need to provide the keys when we create a new object.\n",
    "# It is more organized and scalable.\n"
   ]
  }
 ],
 "metadata": {
  "language_info": {
   "name": "python"
  }
 },
 "nbformat": 4,
 "nbformat_minor": 5
}
